{
 "cells": [
  {
   "cell_type": "code",
   "execution_count": 1,
   "id": "7dce8a42",
   "metadata": {
    "_cell_guid": "b1076dfc-b9ad-4769-8c92-a6c4dae69d19",
    "_uuid": "8f2839f25d086af736a60e9eeb907d3b93b6e0e5",
    "execution": {
     "iopub.execute_input": "2025-06-06T01:26:47.172060Z",
     "iopub.status.busy": "2025-06-06T01:26:47.171788Z",
     "iopub.status.idle": "2025-06-06T01:26:59.447506Z",
     "shell.execute_reply": "2025-06-06T01:26:59.446393Z"
    },
    "papermill": {
     "duration": 12.283666,
     "end_time": "2025-06-06T01:26:59.449122",
     "exception": false,
     "start_time": "2025-06-06T01:26:47.165456",
     "status": "completed"
    },
    "tags": []
   },
   "outputs": [
    {
     "name": "stdout",
     "output_type": "stream",
     "text": [
      "\u001b[2K   \u001b[90m━━━━━━━━━━━━━━━━━━━━━━━━━━━━━━━━━━━━━━━━\u001b[0m \u001b[32m1.5/1.5 MB\u001b[0m \u001b[31m18.8 MB/s\u001b[0m eta \u001b[36m0:00:00\u001b[0m\r\n",
      "\u001b[?25h"
     ]
    }
   ],
   "source": [
    "RUN_VALID = True\n",
    "RUN_TEST  = True\n",
    "\n",
    "import torch\n",
    "if not torch.cuda.is_available() or torch.cuda.device_count() < 2:\n",
    "    raise RuntimeError(\"Requires >= 2 GPUs with CUDA enabled.\")\n",
    "\n",
    "try: \n",
    "    import monai\n",
    "except: \n",
    "    !pip install --no-deps monai -q"
   ]
  },
  {
   "cell_type": "markdown",
   "id": "4e25af25",
   "metadata": {
    "papermill": {
     "duration": 0.004029,
     "end_time": "2025-06-06T01:26:59.457899",
     "exception": false,
     "start_time": "2025-06-06T01:26:59.453870",
     "status": "completed"
    },
    "tags": []
   },
   "source": [
    "# Caformer Improved Notebook\n",
    "\n",
    "This is the final notebook I will release in this competition. I recommend reading the previous notebooks, as many components are reused.\n",
    "\n",
    "1. [HGNet-V2 - Starter](https://www.kaggle.com/code/brendanartley/hgnet-v2-starter)\n",
    "2. [ConvNeXt - Full Resolution Baseline](https://www.kaggle.com/code/brendanartley/convnext-full-resolution-baseline)\n",
    "3. [CAFormer - Full Resolution Improved](https://www.kaggle.com/code/brendanartley/caformer-full-resolution-improved)\n",
    "\n",
    "\n",
    "This notebook features the strongest model I have found so far. A modified CAFormer encoder combined with an improved decoder (pixel shuffle, intermediate convolutions, and SCSE blocks).\n",
    "\n",
    "Like previous notebooks, I provide a pre-trained model checkpoint (trained for 150 epochs) which achieved a validation MAE of ~24."
   ]
  },
  {
   "cell_type": "code",
   "execution_count": 2,
   "id": "ee51c504",
   "metadata": {
    "execution": {
     "iopub.execute_input": "2025-06-06T01:26:59.467626Z",
     "iopub.status.busy": "2025-06-06T01:26:59.466766Z",
     "iopub.status.idle": "2025-06-06T01:26:59.473412Z",
     "shell.execute_reply": "2025-06-06T01:26:59.472584Z"
    },
    "papermill": {
     "duration": 0.01291,
     "end_time": "2025-06-06T01:26:59.474645",
     "exception": false,
     "start_time": "2025-06-06T01:26:59.461735",
     "status": "completed"
    },
    "tags": []
   },
   "outputs": [
    {
     "name": "stdout",
     "output_type": "stream",
     "text": [
      "Writing _cfg.py\n"
     ]
    }
   ],
   "source": [
    "%%writefile _cfg.py\n",
    "\n",
    "from types import SimpleNamespace\n",
    "import torch\n",
    "\n",
    "cfg= SimpleNamespace()\n",
    "cfg.device = torch.device(\"cuda\" if torch.cuda.is_available() else \"cpu\")\n",
    "cfg.local_rank = 0\n",
    "cfg.seed = 123\n",
    "cfg.subsample = None\n",
    "\n",
    "cfg.backbone = \"caformer_b36.sail_in22k_ft_in1k\"\n",
    "cfg.batch_size_val = 16"
   ]
  },
  {
   "cell_type": "markdown",
   "id": "4fa77f33",
   "metadata": {
    "papermill": {
     "duration": 0.003573,
     "end_time": "2025-06-06T01:26:59.482211",
     "exception": false,
     "start_time": "2025-06-06T01:26:59.478638",
     "status": "completed"
    },
    "tags": []
   },
   "source": [
    "# Scheduler\n",
    "\n",
    "I have removed the training loop from this notebook, though it is the same as previous notebooks. \n",
    "\n",
    "The only difference was the use of a custom learning rate scheduler. The scheduler uses a constant learning rate followed by a cosine annealing learning rate. It seems that a learning rate of 1e-4 works well at the beggining, but a lower learning rate is required to achieve lower training and validation MAE."
   ]
  },
  {
   "cell_type": "code",
   "execution_count": 3,
   "id": "bcc9bdd2",
   "metadata": {
    "execution": {
     "iopub.execute_input": "2025-06-06T01:26:59.491183Z",
     "iopub.status.busy": "2025-06-06T01:26:59.490515Z",
     "iopub.status.idle": "2025-06-06T01:26:59.497051Z",
     "shell.execute_reply": "2025-06-06T01:26:59.496282Z"
    },
    "papermill": {
     "duration": 0.01223,
     "end_time": "2025-06-06T01:26:59.498243",
     "exception": false,
     "start_time": "2025-06-06T01:26:59.486013",
     "status": "completed"
    },
    "tags": []
   },
   "outputs": [],
   "source": [
    "import math\n",
    "\n",
    "from torch.optim.lr_scheduler import _LRScheduler\n",
    "\n",
    "class ConstantCosineLR(_LRScheduler):\n",
    "    \"\"\"\n",
    "    Constant learning rate followed by CosineAnnealing.\n",
    "    \"\"\"\n",
    "    def __init__(\n",
    "        self, \n",
    "        optimizer,\n",
    "        total_steps, \n",
    "        pct_cosine, \n",
    "        last_epoch=-1,\n",
    "        ):\n",
    "        self.total_steps = total_steps\n",
    "        self.milestone = int(total_steps * (1 - pct_cosine))\n",
    "        self.cosine_steps = max(total_steps - self.milestone, 1)\n",
    "        self.min_lr = 0\n",
    "        super().__init__(optimizer, last_epoch)\n",
    "\n",
    "    def get_lr(self):\n",
    "        step = self.last_epoch + 1\n",
    "        if step <= self.milestone:\n",
    "            factor = 1.0\n",
    "        else:\n",
    "            s = step - self.milestone\n",
    "            factor = 0.5 * (1 + math.cos(math.pi * s / self.cosine_steps))\n",
    "        return [lr * factor for lr in self.base_lrs]\n"
   ]
  },
  {
   "cell_type": "code",
   "execution_count": 4,
   "id": "37018c52",
   "metadata": {
    "execution": {
     "iopub.execute_input": "2025-06-06T01:26:59.507075Z",
     "iopub.status.busy": "2025-06-06T01:26:59.506849Z",
     "iopub.status.idle": "2025-06-06T01:27:05.903746Z",
     "shell.execute_reply": "2025-06-06T01:27:05.902972Z"
    },
    "papermill": {
     "duration": 6.402937,
     "end_time": "2025-06-06T01:27:05.905198",
     "exception": false,
     "start_time": "2025-06-06T01:26:59.502261",
     "status": "completed"
    },
    "tags": []
   },
   "outputs": [
    {
     "name": "stderr",
     "output_type": "stream",
     "text": [
      "/usr/local/lib/python3.11/dist-packages/torch/optim/lr_scheduler.py:227: UserWarning: Detected call of `lr_scheduler.step()` before `optimizer.step()`. In PyTorch 1.1.0 and later, you should call them in the opposite order: `optimizer.step()` before `lr_scheduler.step()`.  Failure to do this will result in PyTorch skipping the first value of the learning rate schedule. See more details at https://pytorch.org/docs/stable/optim.html#how-to-adjust-learning-rate\n",
      "  warnings.warn(\n"
     ]
    },
    {
     "data": {
      "image/png": "[encoded data removed]",
      "text/plain": [
       "<Figure size 640x480 with 1 Axes>"
      ]
     },
     "metadata": {},
     "output_type": "display_data"
    }
   ],
   "source": [
    "import torch\n",
    "import matplotlib.pyplot as plt\n",
    "\n",
    "# Dummy model\n",
    "n_steps = 10_000\n",
    "model = torch.nn.Linear(1, 1)\n",
    "optimizer = torch.optim.SGD(model.parameters(), lr=0.001)\n",
    "\n",
    "# Scheduler\n",
    "scheduler = ConstantCosineLR(optimizer, total_steps=n_steps, pct_cosine=0.5)\n",
    "\n",
    "# Get LRs\n",
    "arr = []\n",
    "for _ in range(n_steps):\n",
    "    scheduler.step()\n",
    "    arr.append(optimizer.param_groups[0]['lr'])\n",
    "\n",
    "plt.plot(arr)\n",
    "plt.xlabel(\"Step\")\n",
    "plt.ylabel(\"LR\")\n",
    "plt.title(\"ConstantCosineLR\")\n",
    "plt.show()\n"
   ]
  },
  {
   "cell_type": "markdown",
   "id": "1b323aaf",
   "metadata": {
    "papermill": {
     "duration": 0.00419,
     "end_time": "2025-06-06T01:27:05.913898",
     "exception": false,
     "start_time": "2025-06-06T01:27:05.909708",
     "status": "completed"
    },
    "tags": []
   },
   "source": [
    "### Dataset\n",
    "\n",
    "Same as previous notebook. "
   ]
  },
  {
   "cell_type": "code",
   "execution_count": 5,
   "id": "93a3d7af",
   "metadata": {
    "execution": {
     "iopub.execute_input": "2025-06-06T01:27:05.923881Z",
     "iopub.status.busy": "2025-06-06T01:27:05.923024Z",
     "iopub.status.idle": "2025-06-06T01:27:05.928965Z",
     "shell.execute_reply": "2025-06-06T01:27:05.928261Z"
    },
    "papermill": {
     "duration": 0.01205,
     "end_time": "2025-06-06T01:27:05.930067",
     "exception": false,
     "start_time": "2025-06-06T01:27:05.918017",
     "status": "completed"
    },
    "tags": []
   },
   "outputs": [
    {
     "name": "stdout",
     "output_type": "stream",
     "text": [
      "Writing _dataset.py\n"
     ]
    }
   ],
   "source": [
    "%%writefile _dataset.py\n",
    "\n",
    "import os\n",
    "import glob\n",
    "\n",
    "import numpy as np\n",
    "import pandas as pd\n",
    "from tqdm import tqdm\n",
    "\n",
    "import torch\n",
    "\n",
    "class CustomDataset(torch.utils.data.Dataset):\n",
    "    def __init__(\n",
    "        self, \n",
    "        cfg,\n",
    "        mode = \"train\", \n",
    "    ):\n",
    "        self.cfg = cfg\n",
    "        self.mode = mode\n",
    "        \n",
    "        self.data, self.labels, self.records = self.load_metadata()\n",
    "\n",
    "    def load_metadata(self, ):\n",
    "\n",
    "        # Select rows\n",
    "        df= pd.read_csv(\"/kaggle/input/openfwi-preprocessed-72x72/folds.csv\")\n",
    "        if self.cfg.subsample is not None:\n",
    "            df= df.groupby([\"dataset\", \"fold\"]).head(self.cfg.subsample)\n",
    "\n",
    "        if self.mode == \"train\":\n",
    "            df= df[df[\"fold\"] != 0]\n",
    "        else:\n",
    "            df= df[df[\"fold\"] == 0]\n",
    "\n",
    "        \n",
    "        data = []\n",
    "        labels = []\n",
    "        records = []\n",
    "        mmap_mode = \"r\"\n",
    "\n",
    "        for idx, row in tqdm(df.iterrows(), total=len(df), disable=self.cfg.local_rank != 0):\n",
    "            row= row.to_dict()\n",
    "\n",
    "            # Hacky way to get exact file name\n",
    "            p1 = os.path.join(\"/kaggle/input/open-wfi-1/openfwi_float16_1/\", row[\"data_fpath\"])\n",
    "            p2 = os.path.join(\"/kaggle/input/open-wfi-1/openfwi_float16_1/\", row[\"data_fpath\"].split(\"/\")[0], \"*\", row[\"data_fpath\"].split(\"/\")[-1])\n",
    "            p3 = os.path.join(\"/kaggle/input/open-wfi-2/openfwi_float16_2/\", row[\"data_fpath\"])\n",
    "            p4 = os.path.join(\"/kaggle/input/open-wfi-2/openfwi_float16_2/\", row[\"data_fpath\"].split(\"/\")[0], \"*\", row[\"data_fpath\"].split(\"/\")[-1])\n",
    "            farr= glob.glob(p1) + glob.glob(p2) + glob.glob(p3) + glob.glob(p4)\n",
    "        \n",
    "            # Map to lbl fpath\n",
    "            farr= farr[0]\n",
    "            flbl= farr.replace('seis', 'vel').replace('data', 'model')\n",
    "            \n",
    "            # Load\n",
    "            arr= np.load(farr, mmap_mode=mmap_mode)\n",
    "            lbl= np.load(flbl, mmap_mode=mmap_mode)\n",
    "\n",
    "            # Append\n",
    "            data.append(arr)\n",
    "            labels.append(lbl)\n",
    "            records.append(row[\"dataset\"])\n",
    "\n",
    "        return data, labels, records\n",
    "\n",
    "    def __getitem__(self, idx):\n",
    "        row_idx= idx // 500\n",
    "        col_idx= idx % 500\n",
    "\n",
    "        d= self.records[row_idx]\n",
    "        x= self.data[row_idx][col_idx, ...]\n",
    "        y= self.labels[row_idx][col_idx, ...]\n",
    "\n",
    "        # Augs \n",
    "        if self.mode == \"train\":\n",
    "            \n",
    "            # Temporal flip\n",
    "            if np.random.random() < 0.5:\n",
    "                x= x[::-1, :, ::-1]\n",
    "                y= y[..., ::-1]\n",
    "\n",
    "        x= x.copy()\n",
    "        y= y.copy()\n",
    "        \n",
    "        return x, y\n",
    "\n",
    "    def __len__(self, ):\n",
    "        return len(self.records) * 500"
   ]
  },
  {
   "cell_type": "markdown",
   "id": "71ef9815",
   "metadata": {
    "papermill": {
     "duration": 0.003862,
     "end_time": "2025-06-06T01:27:05.938163",
     "exception": false,
     "start_time": "2025-06-06T01:27:05.934301",
     "status": "completed"
    },
    "tags": []
   },
   "source": [
    "# Model\n",
    "\n",
    "This time we use the `CAFormer` backbone from timm. See more info on this backbone [here](https://huggingface.co/timm/caformer_b36.sail_in22k_ft_in1k) and the original paper [here](https://arxiv.org/abs/2210.13452).\n",
    "\n",
    "\n",
    "### Encoder\n",
    "\n",
    "Like with Convnext, we modify the encoder so that the feature maps are aligned with the target output shape. I think there is room for improvement at the `nn.ReflectionPad2d` step. Currently, the model uses lots of padding here and I am afraid the detail in the shallowest feature map is lacking.\n",
    "\n",
    "### Decoder\n",
    "\n",
    "The biggest changes in this notebook are to the decoder. \n",
    "\n",
    "First, we use PixelShuffle for upsampling. Pixelshuffle typically works well when fine detail is important, though it is more computatially expensive. Second, we add SCSE blocks. These are commonly used to increase decoder capacity with a minimal increase in parameter count and runtime. Finally, we add intermediate convolutions between the encoder output and decoder blocks. I beleive this trick was first introduced on Kaggle in the 3rd place solution of the Contrails Competition [here](https://www.kaggle.com/competitions/google-research-identify-contrails-redu), and also increases decoder capacity."
   ]
  },
  {
   "cell_type": "code",
   "execution_count": 6,
   "id": "14a865e4",
   "metadata": {
    "execution": {
     "iopub.execute_input": "2025-06-06T01:27:05.947832Z",
     "iopub.status.busy": "2025-06-06T01:27:05.947600Z",
     "iopub.status.idle": "2025-06-06T01:27:49.165626Z",
     "shell.execute_reply": "2025-06-06T01:27:49.164968Z"
    },
    "papermill": {
     "duration": 43.224855,
     "end_time": "2025-06-06T01:27:49.167166",
     "exception": false,
     "start_time": "2025-06-06T01:27:05.942311",
     "status": "completed"
    },
    "tags": []
   },
   "outputs": [
    {
     "name": "stderr",
     "output_type": "stream",
     "text": [
      "<frozen importlib._bootstrap_external>:1241: FutureWarning: The cuda.cudart module is deprecated and will be removed in a future release, please switch to use the cuda.bindings.runtime module instead.\n",
      "2025-06-06 01:27:31.722709: E external/local_xla/xla/stream_executor/cuda/cuda_fft.cc:477] Unable to register cuFFT factory: Attempting to register factory for plugin cuFFT when one has already been registered\n",
      "WARNING: All log messages before absl::InitializeLog() is called are written to STDERR\n",
      "E0000 00:00:1749173252.113059      19 cuda_dnn.cc:8310] Unable to register cuDNN factory: Attempting to register factory for plugin cuDNN when one has already been registered\n",
      "E0000 00:00:1749173252.228805      19 cuda_blas.cc:1418] Unable to register cuBLAS factory: Attempting to register factory for plugin cuBLAS when one has already been registered\n"
     ]
    }
   ],
   "source": [
    "from copy import deepcopy\n",
    "from types import MethodType\n",
    "\n",
    "import torch\n",
    "import torch.nn as nn\n",
    "import torch.nn.functional as F\n",
    "\n",
    "import timm\n",
    "\n",
    "from monai.networks.blocks import UpSample, SubpixelUpsample\n",
    "\n",
    "####################\n",
    "## EMA + Ensemble ##\n",
    "####################\n",
    "\n",
    "class ModelEMA(nn.Module):\n",
    "    def __init__(self, model, decay=0.99, device=None):\n",
    "        super().__init__()\n",
    "        self.module = deepcopy(model)\n",
    "        self.module.eval()\n",
    "        self.decay = decay\n",
    "        self.device = device\n",
    "        if self.device is not None:\n",
    "            self.module.to(device=device)\n",
    "\n",
    "    def _update(self, model, update_fn):\n",
    "        with torch.no_grad():\n",
    "            for ema_v, model_v in zip(self.module.state_dict().values(), model.state_dict().values()):\n",
    "                if self.device is not None:\n",
    "                    model_v = model_v.to(device=self.device)\n",
    "                ema_v.copy_(update_fn(ema_v, model_v))\n",
    "\n",
    "    def update(self, model):\n",
    "        self._update(model, update_fn=lambda e, m: self.decay * e + (1. - self.decay) * m)\n",
    "\n",
    "    def set(self, model):\n",
    "        self._update(model, update_fn=lambda e, m: m)\n",
    "\n",
    "\n",
    "class EnsembleModel(nn.Module):\n",
    "    def __init__(self, models):\n",
    "        super().__init__()\n",
    "        self.models = nn.ModuleList(models).eval()\n",
    "\n",
    "    def forward(self, x):\n",
    "        output = None\n",
    "        \n",
    "        for m in self.models:\n",
    "            logits= m(x)\n",
    "            \n",
    "            if output is None:\n",
    "                output = logits\n",
    "            else:\n",
    "                output += logits\n",
    "                \n",
    "        output /= len(self.models)\n",
    "        return output\n",
    "        \n",
    "\n",
    "#############\n",
    "## Decoder ##\n",
    "#############\n",
    "\n",
    "class ConvBnAct2d(nn.Module):\n",
    "    def __init__(\n",
    "        self,\n",
    "        in_channels,\n",
    "        out_channels,\n",
    "        kernel_size,\n",
    "        padding: int = 0,\n",
    "        stride: int = 1,\n",
    "        norm_layer: nn.Module = nn.Identity,\n",
    "        act_layer: nn.Module = nn.ReLU,\n",
    "    ):\n",
    "        super().__init__()\n",
    "\n",
    "        self.conv= nn.Conv2d(\n",
    "            in_channels, \n",
    "            out_channels,\n",
    "            kernel_size,\n",
    "            stride=stride, \n",
    "            padding=padding, \n",
    "            bias=False,\n",
    "        )\n",
    "        self.norm = norm_layer(out_channels) if norm_layer != nn.Identity else nn.Identity()\n",
    "        self.act= act_layer(inplace=True)\n",
    "\n",
    "    def forward(self, x):\n",
    "        x = self.conv(x)\n",
    "        x = self.norm(x)\n",
    "        x = self.act(x)\n",
    "        return x\n",
    "\n",
    "\n",
    "class SCSEModule2d(nn.Module):\n",
    "    def __init__(self, in_channels, reduction=16):\n",
    "        super().__init__()\n",
    "        self.cSE = nn.Sequential(\n",
    "            nn.AdaptiveAvgPool2d(1),\n",
    "            nn.Conv2d(in_channels, in_channels // reduction, 1),\n",
    "            nn.Tanh(),\n",
    "            nn.Conv2d(in_channels // reduction, in_channels, 1),\n",
    "            nn.Sigmoid(),\n",
    "        )\n",
    "        self.sSE = nn.Sequential(\n",
    "            nn.Conv2d(in_channels, 1, 1), \n",
    "            nn.Sigmoid(),\n",
    "            )\n",
    "\n",
    "    def forward(self, x):\n",
    "        return x * self.cSE(x) + x * self.sSE(x)\n",
    "\n",
    "class Attention2d(nn.Module):\n",
    "    def __init__(self, name, **params):\n",
    "        super().__init__()\n",
    "        if name is None:\n",
    "            self.attention = nn.Identity(**params)\n",
    "        elif name == \"scse\":\n",
    "            self.attention = SCSEModule2d(**params)\n",
    "        else:\n",
    "            raise ValueError(\"Attention {} is not implemented\".format(name))\n",
    "\n",
    "    def forward(self, x):\n",
    "        return self.attention(x)\n",
    "\n",
    "class DecoderBlock2d(nn.Module):\n",
    "    def __init__(\n",
    "        self,\n",
    "        in_channels,\n",
    "        skip_channels,\n",
    "        out_channels,\n",
    "        norm_layer: nn.Module = nn.Identity,\n",
    "        attention_type: str = None,\n",
    "        intermediate_conv: bool = False,\n",
    "        upsample_mode: str = \"deconv\",\n",
    "        scale_factor: int = 2,\n",
    "    ):\n",
    "        super().__init__()\n",
    "\n",
    "        # Upsample block\n",
    "        if upsample_mode == \"pixelshuffle\":\n",
    "            self.upsample= SubpixelUpsample(\n",
    "                spatial_dims= 2,\n",
    "                in_channels= in_channels,\n",
    "                scale_factor= scale_factor,\n",
    "            )\n",
    "        else:\n",
    "            self.upsample = UpSample(\n",
    "                spatial_dims= 2,\n",
    "                in_channels= in_channels,\n",
    "                out_channels= in_channels,\n",
    "                scale_factor= scale_factor,\n",
    "                mode= upsample_mode,\n",
    "            )\n",
    "\n",
    "        if intermediate_conv:\n",
    "            k= 3\n",
    "            c= skip_channels if skip_channels != 0 else in_channels\n",
    "            self.intermediate_conv = nn.Sequential(\n",
    "                ConvBnAct2d(c, c, k, k//2),\n",
    "                ConvBnAct2d(c, c, k, k//2),\n",
    "                )\n",
    "        else:\n",
    "            self.intermediate_conv= None\n",
    "\n",
    "        self.attention1 = Attention2d(\n",
    "            name= attention_type, \n",
    "            in_channels= in_channels + skip_channels,\n",
    "            )\n",
    "\n",
    "        self.conv1 = ConvBnAct2d(\n",
    "            in_channels + skip_channels,\n",
    "            out_channels,\n",
    "            kernel_size= 3,\n",
    "            padding= 1,\n",
    "            norm_layer= norm_layer,\n",
    "        )\n",
    "\n",
    "        self.conv2 = ConvBnAct2d(\n",
    "            out_channels,\n",
    "            out_channels,\n",
    "            kernel_size= 3,\n",
    "            padding= 1,\n",
    "            norm_layer= norm_layer,\n",
    "        )\n",
    "        self.attention2 = Attention2d(\n",
    "            name= attention_type, \n",
    "            in_channels= out_channels,\n",
    "            )\n",
    "\n",
    "    def forward(self, x, skip=None):\n",
    "        x = self.upsample(x)\n",
    "\n",
    "        if self.intermediate_conv is not None:\n",
    "            if skip is not None:\n",
    "                skip = self.intermediate_conv(skip)\n",
    "            else:\n",
    "                x = self.intermediate_conv(x)\n",
    "\n",
    "        if skip is not None:\n",
    "            # print(x.shape, skip.shape)\n",
    "            x = torch.cat([x, skip], dim=1)\n",
    "            x = self.attention1(x)\n",
    "\n",
    "        x = self.conv1(x)\n",
    "        x = self.conv2(x)\n",
    "        x = self.attention2(x)\n",
    "        return x\n",
    "\n",
    "\n",
    "class UnetDecoder2d(nn.Module):\n",
    "    \"\"\"\n",
    "    Unet decoder.\n",
    "    Source: https://arxiv.org/abs/1505.04597\n",
    "    \"\"\"\n",
    "    def __init__(\n",
    "        self,\n",
    "        encoder_channels: tuple[int],\n",
    "        skip_channels: tuple[int] = None,\n",
    "        decoder_channels: tuple = (256, 128, 64, 32),\n",
    "        scale_factors: tuple = (2,2,2,2),\n",
    "        norm_layer: nn.Module = nn.Identity,\n",
    "        attention_type: str = \"scse\",\n",
    "        intermediate_conv: bool = True,\n",
    "        upsample_mode: str = \"pixelshuffle\",\n",
    "    ):\n",
    "        super().__init__()\n",
    "        \n",
    "        if len(encoder_channels) == 4:\n",
    "            decoder_channels= decoder_channels[1:]\n",
    "        self.decoder_channels= decoder_channels\n",
    "        \n",
    "        if skip_channels is None:\n",
    "            skip_channels= list(encoder_channels[1:]) + [0]\n",
    "\n",
    "        # Build decoder blocks\n",
    "        in_channels= [encoder_channels[0]] + list(decoder_channels[:-1])\n",
    "        self.blocks = nn.ModuleList()\n",
    "\n",
    "        for i, (ic, sc, dc) in enumerate(zip(in_channels, skip_channels, decoder_channels)):\n",
    "            # print(i, ic, sc, dc)\n",
    "            self.blocks.append(\n",
    "                DecoderBlock2d(\n",
    "                    ic, sc, dc, \n",
    "                    norm_layer= norm_layer,\n",
    "                    attention_type= attention_type,\n",
    "                    intermediate_conv= intermediate_conv,\n",
    "                    upsample_mode= upsample_mode,\n",
    "                    scale_factor= scale_factors[i],\n",
    "                    )\n",
    "            )\n",
    "\n",
    "    def forward(self, feats: list[torch.Tensor]):\n",
    "        res= [feats[0]]\n",
    "        feats= feats[1:]\n",
    "\n",
    "        # Decoder blocks\n",
    "        for i, b in enumerate(self.blocks):\n",
    "            skip= feats[i] if i < len(feats) else None\n",
    "            res.append(\n",
    "                b(res[-1], skip=skip),\n",
    "                )\n",
    "            \n",
    "        return res\n",
    "\n",
    "class SegmentationHead2d(nn.Module):\n",
    "    def __init__(\n",
    "        self,\n",
    "        in_channels,\n",
    "        out_channels,\n",
    "        scale_factor: tuple[int] = (2,2),\n",
    "        kernel_size: int = 3,\n",
    "        mode: str = \"nontrainable\",\n",
    "    ):\n",
    "        super().__init__()\n",
    "        self.conv= nn.Conv2d(\n",
    "            in_channels, out_channels, kernel_size= kernel_size,\n",
    "            padding= kernel_size//2\n",
    "        )\n",
    "        self.upsample = UpSample(\n",
    "            spatial_dims= 2,\n",
    "            in_channels= out_channels,\n",
    "            out_channels= out_channels,\n",
    "            scale_factor= scale_factor,\n",
    "            mode= mode,\n",
    "        )\n",
    "\n",
    "    def forward(self, x):\n",
    "        x = self.conv(x)\n",
    "        x = self.upsample(x)\n",
    "        return x\n",
    "        \n",
    "\n",
    "#############\n",
    "## Encoder ##\n",
    "#############\n",
    "\n",
    "class Net(nn.Module):\n",
    "    def __init__(\n",
    "        self,\n",
    "        backbone: str,\n",
    "        pretrained: bool = True,\n",
    "    ):\n",
    "        super().__init__()\n",
    "        \n",
    "        # Encoder\n",
    "        self.backbone= timm.create_model(\n",
    "            backbone,\n",
    "            in_chans= 5,\n",
    "            pretrained= pretrained,\n",
    "            features_only= True,\n",
    "            drop_path_rate=0.0,\n",
    "            )\n",
    "        ecs= [_[\"num_chs\"] for _ in self.backbone.feature_info][::-1]\n",
    "\n",
    "        # Decoder\n",
    "        self.decoder= UnetDecoder2d(\n",
    "            encoder_channels= ecs,\n",
    "        )\n",
    "\n",
    "        self.seg_head= SegmentationHead2d(\n",
    "            in_channels= self.decoder.decoder_channels[-1],\n",
    "            out_channels= 1,\n",
    "            scale_factor= 1,\n",
    "        )\n",
    "        \n",
    "        self._update_stem(backbone)\n",
    "\n",
    "    def _update_stem(self, backbone):\n",
    "        m = self.backbone\n",
    "\n",
    "        m.stem.conv.stride=(4,1)\n",
    "        m.stem.conv.padding=(0,4)\n",
    "        m.stages_0.downsample = nn.AvgPool2d(kernel_size=(4,1), stride=(4,1))\n",
    "        m.stem= nn.Sequential(\n",
    "            nn.ReflectionPad2d((0,0,78,78)),\n",
    "            m.stem,\n",
    "        )\n",
    "\n",
    "        pass\n",
    "\n",
    "        \n",
    "    def proc_flip(self, x_in):\n",
    "        x_in= torch.flip(x_in, dims=[-3, -1])\n",
    "        x= self.backbone(x_in)\n",
    "        x= x[::-1]\n",
    "\n",
    "        # Decoder\n",
    "        x= self.decoder(x)\n",
    "        x_seg= self.seg_head(x[-1])\n",
    "        x_seg= x_seg[..., 1:-1, 1:-1]\n",
    "        x_seg= torch.flip(x_seg, dims=[-1])\n",
    "        x_seg= x_seg * 1500 + 3000\n",
    "        return x_seg\n",
    "\n",
    "    def forward(self, batch):\n",
    "        x= batch\n",
    "\n",
    "        # Encoder\n",
    "        x_in = x\n",
    "        x= self.backbone(x)\n",
    "        # print([_.shape for _ in x])\n",
    "        x= x[::-1]\n",
    "\n",
    "        # Decoder\n",
    "        x= self.decoder(x)\n",
    "        # print([_.shape for _ in x])\n",
    "        x_seg= self.seg_head(x[-1])\n",
    "        x_seg= x_seg[..., 1:-1, 1:-1]\n",
    "        x_seg= x_seg * 1500 + 3000\n",
    "    \n",
    "        if self.training:\n",
    "            return x_seg\n",
    "        else:\n",
    "            p1 = self.proc_flip(x_in)\n",
    "            x_seg = torch.mean(torch.stack([x_seg, p1]), dim=0)\n",
    "            return x_seg"
   ]
  },
  {
   "cell_type": "markdown",
   "id": "26bf6232",
   "metadata": {
    "papermill": {
     "duration": 0.004152,
     "end_time": "2025-06-06T01:27:49.176002",
     "exception": false,
     "start_time": "2025-06-06T01:27:49.171850",
     "status": "completed"
    },
    "tags": []
   },
   "source": [
    "### Utils\n",
    "\n",
    "Same as previous notebook. "
   ]
  },
  {
   "cell_type": "code",
   "execution_count": 7,
   "id": "c7e59fbc",
   "metadata": {
    "execution": {
     "iopub.execute_input": "2025-06-06T01:27:49.185979Z",
     "iopub.status.busy": "2025-06-06T01:27:49.185219Z",
     "iopub.status.idle": "2025-06-06T01:27:49.189787Z",
     "shell.execute_reply": "2025-06-06T01:27:49.189180Z"
    },
    "papermill": {
     "duration": 0.010874,
     "end_time": "2025-06-06T01:27:49.190906",
     "exception": false,
     "start_time": "2025-06-06T01:27:49.180032",
     "status": "completed"
    },
    "tags": []
   },
   "outputs": [],
   "source": [
    "import datetime\n",
    "\n",
    "def format_time(elapsed):\n",
    "    elapsed_rounded = int(round((elapsed)))\n",
    "    return str(datetime.timedelta(seconds=elapsed_rounded))"
   ]
  },
  {
   "cell_type": "markdown",
   "id": "89044165",
   "metadata": {
    "papermill": {
     "duration": 0.004705,
     "end_time": "2025-06-06T01:27:49.200125",
     "exception": false,
     "start_time": "2025-06-06T01:27:49.195420",
     "status": "completed"
    },
    "tags": []
   },
   "source": [
    "### Pretrained Model\n",
    "\n",
    "Next, we load in the pretrained model. This model was trained with a batch size of 16 for 200 epochs."
   ]
  },
  {
   "cell_type": "code",
   "execution_count": 8,
   "id": "952551ac",
   "metadata": {
    "execution": {
     "iopub.execute_input": "2025-06-06T01:27:49.209970Z",
     "iopub.status.busy": "2025-06-06T01:27:49.209259Z",
     "iopub.status.idle": "2025-06-06T01:27:58.556474Z",
     "shell.execute_reply": "2025-06-06T01:27:58.555647Z"
    },
    "papermill": {
     "duration": 9.353464,
     "end_time": "2025-06-06T01:27:58.557812",
     "exception": false,
     "start_time": "2025-06-06T01:27:49.204348",
     "status": "completed"
    },
    "tags": []
   },
   "outputs": [
    {
     "name": "stdout",
     "output_type": "stream",
     "text": [
      "Loading:  /kaggle/input/openfwi-preprocessed-72x72/models_1000x70/unet2d_caformer_seed3_epochbest.pt\n",
      "n_models: 1\n"
     ]
    }
   ],
   "source": [
    "import glob\n",
    "\n",
    "import torch\n",
    "import torch.nn as nn\n",
    "import torch.nn.functional as F\n",
    "\n",
    "from _cfg import cfg\n",
    "\n",
    "if RUN_VALID or RUN_TEST:\n",
    "\n",
    "    # Load pretrained models\n",
    "    models = []\n",
    "    for f in sorted(glob.glob(\"/kaggle/input/openfwi-preprocessed-72x72/models_1000x70/unet2d_caformer*.pt\")):\n",
    "        print(\"Loading: \", f)\n",
    "        m = Net(\n",
    "            backbone=cfg.backbone,\n",
    "            pretrained=False,\n",
    "        )\n",
    "        state_dict= torch.load(f, map_location=cfg.device, weights_only=True)\n",
    "        state_dict= {k.removeprefix(\"_orig_mod.\"):v for k,v in state_dict.items()} # Remove torch.compile() prefix\n",
    "\n",
    "        m.load_state_dict(state_dict)\n",
    "        models.append(m)\n",
    "    \n",
    "    # Combine\n",
    "    model = EnsembleModel(models)\n",
    "    model = model.to(cfg.device)\n",
    "    model = model.eval()\n",
    "    print(\"n_models: {:_}\".format(len(models)))"
   ]
  },
  {
   "cell_type": "markdown",
   "id": "d90a4ee8",
   "metadata": {
    "papermill": {
     "duration": 0.004301,
     "end_time": "2025-06-06T01:27:58.566708",
     "exception": false,
     "start_time": "2025-06-06T01:27:58.562407",
     "status": "completed"
    },
    "tags": []
   },
   "source": [
    "# Valid\n",
    "\n",
    "Next, we score the ensemble on the validation set."
   ]
  },
  {
   "cell_type": "code",
   "execution_count": 9,
   "id": "23b98630",
   "metadata": {
    "execution": {
     "iopub.execute_input": "2025-06-06T01:27:58.577563Z",
     "iopub.status.busy": "2025-06-06T01:27:58.576748Z",
     "iopub.status.idle": "2025-06-06T01:34:31.686369Z",
     "shell.execute_reply": "2025-06-06T01:34:31.685206Z"
    },
    "papermill": {
     "duration": 393.116866,
     "end_time": "2025-06-06T01:34:31.688011",
     "exception": false,
     "start_time": "2025-06-06T01:27:58.571145",
     "status": "completed"
    },
    "tags": []
   },
   "outputs": [
    {
     "name": "stderr",
     "output_type": "stream",
     "text": [
      "100%|██████████| 20/20 [00:05<00:00,  3.97it/s]\n",
      "100%|██████████| 625/625 [06:27<00:00,  1.61it/s]\n"
     ]
    },
    {
     "name": "stdout",
     "output_type": "stream",
     "text": [
      "=========================\n",
      "CurveFault_A    4.00\n",
      "CurveFault_B    71.06\n",
      "CurveVel_A      9.19\n",
      "CurveVel_B      38.60\n",
      "FlatFault_A     2.58\n",
      "FlatFault_B     24.29\n",
      "FlatVel_A       1.31\n",
      "FlatVel_B       7.20\n",
      "Style_A         34.34\n",
      "Style_B         48.90\n",
      "=========================\n",
      "Val MAE: 24.15\n",
      "=========================\n"
     ]
    }
   ],
   "source": [
    "from tqdm import tqdm\n",
    "import numpy as np\n",
    "\n",
    "import torch\n",
    "import torch.nn as nn\n",
    "from torch.amp import autocast\n",
    "\n",
    "from _dataset import CustomDataset\n",
    "\n",
    "\n",
    "if RUN_VALID:\n",
    "\n",
    "    # Dataset / Dataloader\n",
    "    valid_ds = CustomDataset(cfg=cfg, mode=\"valid\")\n",
    "    sampler = torch.utils.data.SequentialSampler(valid_ds)\n",
    "    valid_dl = torch.utils.data.DataLoader(\n",
    "        valid_ds, \n",
    "        sampler= sampler,\n",
    "        batch_size= cfg.batch_size_val, \n",
    "        num_workers= 4,\n",
    "    )\n",
    "\n",
    "    # Valid loop\n",
    "    criterion = nn.L1Loss()\n",
    "    val_logits = []\n",
    "    val_targets = []\n",
    "    \n",
    "    with torch.no_grad():\n",
    "        for x, y in tqdm(valid_dl):\n",
    "            x = x.to(cfg.device)\n",
    "            y = y.to(cfg.device)\n",
    "    \n",
    "            with autocast(cfg.device.type):\n",
    "                out = model(x)\n",
    "    \n",
    "            val_logits.append(out.cpu())\n",
    "            val_targets.append(y.cpu())\n",
    "    \n",
    "        val_logits= torch.cat(val_logits, dim=0)\n",
    "        val_targets= torch.cat(val_targets, dim=0)\n",
    "    \n",
    "        total_loss= criterion(val_logits, val_targets).item()\n",
    "    \n",
    "    # Dataset Scores\n",
    "    ds_idxs= np.array([valid_ds.records])\n",
    "    ds_idxs= np.repeat(ds_idxs, repeats=500)\n",
    "    \n",
    "    print(\"=\"*25)\n",
    "    with torch.no_grad():    \n",
    "        for idx in sorted(np.unique(ds_idxs)):\n",
    "    \n",
    "            # Mask\n",
    "            mask = ds_idxs == idx\n",
    "            logits_ds = val_logits[mask]\n",
    "            targets_ds = val_targets[mask]\n",
    "    \n",
    "            # Score predictions\n",
    "            loss = criterion(val_logits[mask], val_targets[mask]).item()\n",
    "            print(\"{:15} {:.2f}\".format(idx, loss))\n",
    "    print(\"=\"*25)\n",
    "    print(\"Val MAE: {:.2f}\".format(total_loss))\n",
    "    print(\"=\"*25)"
   ]
  },
  {
   "cell_type": "markdown",
   "id": "b2f3dbe0",
   "metadata": {
    "papermill": {
     "duration": 0.029175,
     "end_time": "2025-06-06T01:34:31.811117",
     "exception": false,
     "start_time": "2025-06-06T01:34:31.781942",
     "status": "completed"
    },
    "tags": []
   },
   "source": [
    "# Test\n",
    "\n",
    "Finally, we make predictions on the test data."
   ]
  },
  {
   "cell_type": "code",
   "execution_count": 10,
   "id": "d134f827",
   "metadata": {
    "execution": {
     "iopub.execute_input": "2025-06-06T01:34:31.872664Z",
     "iopub.status.busy": "2025-06-06T01:34:31.872293Z",
     "iopub.status.idle": "2025-06-06T01:34:31.877966Z",
     "shell.execute_reply": "2025-06-06T01:34:31.877181Z"
    },
    "papermill": {
     "duration": 0.038522,
     "end_time": "2025-06-06T01:34:31.879197",
     "exception": false,
     "start_time": "2025-06-06T01:34:31.840675",
     "status": "completed"
    },
    "tags": []
   },
   "outputs": [],
   "source": [
    "import torch\n",
    "\n",
    "class TestDataset(torch.utils.data.Dataset):\n",
    "    def __init__(self, test_files):\n",
    "        self.test_files = test_files\n",
    "\n",
    "    def __len__(self):\n",
    "        return len(self.test_files)\n",
    "\n",
    "    def __getitem__(self, i):\n",
    "        test_file = self.test_files[i]\n",
    "        test_stem = test_file.split(\"/\")[-1].split(\".\")[0]\n",
    "        return np.load(test_file), test_stem"
   ]
  },
  {
   "cell_type": "code",
   "execution_count": 11,
   "id": "92590314",
   "metadata": {
    "execution": {
     "iopub.execute_input": "2025-06-06T01:34:31.941188Z",
     "iopub.status.busy": "2025-06-06T01:34:31.940464Z",
     "iopub.status.idle": "2025-06-06T02:19:37.935068Z",
     "shell.execute_reply": "2025-06-06T02:19:37.933948Z"
    },
    "papermill": {
     "duration": 2706.031006,
     "end_time": "2025-06-06T02:19:37.940823",
     "exception": false,
     "start_time": "2025-06-06T01:34:31.909817",
     "status": "completed"
    },
    "tags": []
   },
   "outputs": [
    {
     "name": "stderr",
     "output_type": "stream",
     "text": [
      "100%|██████████| 4114/4114 [44:38<00:00,  1.54it/s]"
     ]
    },
    {
     "name": "stdout",
     "output_type": "stream",
     "text": [
      "Inference Time: 0:44:40\n"
     ]
    },
    {
     "name": "stderr",
     "output_type": "stream",
     "text": [
      "\n"
     ]
    }
   ],
   "source": [
    "import csv\n",
    "import time\n",
    "import glob\n",
    "from tqdm import tqdm\n",
    "import numpy as np\n",
    "import pandas as pd\n",
    "\n",
    "\n",
    "if RUN_TEST:\n",
    "\n",
    "    ss= pd.read_csv(\"/kaggle/input/waveform-inversion/sample_submission.csv\")    \n",
    "    row_count = 0\n",
    "    t0 = time.time()\n",
    "    \n",
    "    test_files = sorted(glob.glob(\"/kaggle/input/open-wfi-test/test/*.npy\"))\n",
    "    x_cols = [f\"x_{i}\" for i in range(1, 70, 2)]\n",
    "    fieldnames = [\"oid_ypos\"] + x_cols\n",
    "    \n",
    "    test_ds = TestDataset(test_files)\n",
    "    test_dl = torch.utils.data.DataLoader(\n",
    "        test_ds, \n",
    "        sampler=torch.utils.data.SequentialSampler(test_ds),\n",
    "        batch_size=cfg.batch_size_val, \n",
    "        num_workers=4,\n",
    "    )\n",
    "    \n",
    "    with open(\"submission.csv\", \"wt\", newline=\"\") as csvfile:\n",
    "        writer = csv.DictWriter(csvfile, fieldnames=fieldnames)\n",
    "        writer.writeheader()\n",
    "\n",
    "        with torch.inference_mode():\n",
    "            with torch.autocast(cfg.device.type):\n",
    "                for inputs, oids_test in tqdm(test_dl, total=len(test_dl)):\n",
    "                    inputs = inputs.to(cfg.device)\n",
    "            \n",
    "                    outputs = model(inputs)\n",
    "                            \n",
    "                    y_preds = outputs[:, 0].cpu().numpy()\n",
    "                    \n",
    "                    for y_pred, oid_test in zip(y_preds, oids_test):\n",
    "                        for y_pos in range(70):\n",
    "                            row = dict(zip(x_cols, [y_pred[y_pos, x_pos] for x_pos in range(1, 70, 2)]))\n",
    "                            row[\"oid_ypos\"] = f\"{oid_test}_y_{y_pos}\"\n",
    "            \n",
    "                            writer.writerow(row)\n",
    "                            row_count += 1\n",
    "\n",
    "                            # Clear buffer\n",
    "                            if row_count % 100_000 == 0:\n",
    "                                csvfile.flush()\n",
    "    \n",
    "    t1 = format_time(time.time() - t0)\n",
    "    print(f\"Inference Time: {t1}\")"
   ]
  },
  {
   "cell_type": "markdown",
   "id": "896358cb",
   "metadata": {
    "papermill": {
     "duration": 0.207885,
     "end_time": "2025-06-06T02:19:38.433030",
     "exception": false,
     "start_time": "2025-06-06T02:19:38.225145",
     "status": "completed"
    },
    "tags": []
   },
   "source": [
    "We can also view a few samples to make sure things look reasonable."
   ]
  },
  {
   "cell_type": "code",
   "execution_count": 12,
   "id": "17c62bda",
   "metadata": {
    "execution": {
     "iopub.execute_input": "2025-06-06T02:19:38.837497Z",
     "iopub.status.busy": "2025-06-06T02:19:38.836721Z",
     "iopub.status.idle": "2025-06-06T02:19:40.192333Z",
     "shell.execute_reply": "2025-06-06T02:19:40.191446Z"
    },
    "papermill": {
     "duration": 1.561419,
     "end_time": "2025-06-06T02:19:40.194728",
     "exception": false,
     "start_time": "2025-06-06T02:19:38.633309",
     "status": "completed"
    },
    "tags": []
   },
   "outputs": [
    {
     "data": {
      "image/png": "[encoded data removed]",
      "text/plain": [
       "<Figure size 1000x600 with 15 Axes>"
      ]
     },
     "metadata": {},
     "output_type": "display_data"
    }
   ],
   "source": [
    "import matplotlib.pyplot as plt \n",
    "\n",
    "if RUN_TEST:\n",
    "    # Plot a few samples\n",
    "    fig, axes = plt.subplots(3, 5, figsize=(10, 6))\n",
    "    axes= axes.flatten()\n",
    "\n",
    "    n = min(len(outputs), len(axes))\n",
    "    \n",
    "    for i in range(n):\n",
    "        img= outputs[0, 0, ...].cpu().numpy()\n",
    "        img = outputs[i, 0].cpu().numpy()\n",
    "        idx= oids_test[i]\n",
    "    \n",
    "        # Plot\n",
    "        axes[i].imshow(img, cmap='gray')\n",
    "        axes[i].set_title(idx)\n",
    "        axes[i].axis('off')\n",
    "\n",
    "    for i in range(n, len(axes)):\n",
    "        axes[i].axis('off')\n",
    "    \n",
    "    plt.tight_layout()\n",
    "    plt.show()"
   ]
  }
 ],
 "metadata": {
  "kaggle": {
   "accelerator": "nvidiaTeslaT4",
   "dataSources": [
    {
     "databundleVersionId": 11756775,
     "sourceId": 39763,
     "sourceType": "competition"
    },
    {
     "datasetId": 7253205,
     "sourceId": 11568812,
     "sourceType": "datasetVersion"
    },
    {
     "datasetId": 7253605,
     "sourceId": 11569667,
     "sourceType": "datasetVersion"
    },
    {
     "datasetId": 7253661,
     "sourceId": 11569755,
     "sourceType": "datasetVersion"
    },
    {
     "datasetId": 7377931,
     "sourceId": 12038896,
     "sourceType": "datasetVersion"
    }
   ],
   "dockerImageVersionId": 31041,
   "isGpuEnabled": true,
   "isInternetEnabled": true,
   "language": "python",
   "sourceType": "notebook"
  },
  "kernelspec": {
   "display_name": "Python 3",
   "language": "python",
   "name": "python3"
  },
  "language_info": {
   "codemirror_mode": {
    "name": "ipython",
    "version": 3
   },
   "file_extension": ".py",
   "mimetype": "text/x-python",
   "name": "python",
   "nbconvert_exporter": "python",
   "pygments_lexer": "ipython3",
   "version": "3.11.11"
  },
  "papermill": {
   "default_parameters": {},
   "duration": 3182.120764,
   "end_time": "2025-06-06T02:19:43.246022",
   "environment_variables": {},
   "exception": null,
   "input_path": "__notebook__.ipynb",
   "output_path": "__notebook__.ipynb",
   "parameters": {},
   "start_time": "2025-06-06T01:26:41.125258",
   "version": "2.6.0"
  }
 },
 "nbformat": 4,
 "nbformat_minor": 5
}
